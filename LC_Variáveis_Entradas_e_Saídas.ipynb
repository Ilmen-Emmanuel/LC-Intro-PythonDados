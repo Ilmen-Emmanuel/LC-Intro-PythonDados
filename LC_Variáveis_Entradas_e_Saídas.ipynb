{
  "nbformat": 4,
  "nbformat_minor": 0,
  "metadata": {
    "colab": {
      "name": "LC_Variáveis_Entradas_e_Saídas.ipynb",
      "provenance": [],
      "collapsed_sections": [],
      "authorship_tag": "ABX9TyOmHkKNHxo/rX8Nr6qG9uts",
      "include_colab_link": true
    },
    "kernelspec": {
      "name": "python3",
      "display_name": "Python 3"
    },
    "language_info": {
      "name": "python"
    }
  },
  "cells": [
    {
      "cell_type": "markdown",
      "metadata": {
        "id": "view-in-github",
        "colab_type": "text"
      },
      "source": [
        "<a href=\"https://colab.research.google.com/github/Ilmen-Emmanuel/LC-Intro-PythonDados/blob/main/LC_Vari%C3%A1veis_Entradas_e_Sa%C3%ADdas.ipynb\" target=\"_parent\"><img src=\"https://colab.research.google.com/assets/colab-badge.svg\" alt=\"Open In Colab\"/></a>"
      ]
    },
    {
      "cell_type": "markdown",
      "source": [
        "## Exercícios"
      ],
      "metadata": {
        "id": "vYERGrascMEj"
      }
    },
    {
      "cell_type": "markdown",
      "source": [
        "###LC | Variáveis, Entradas e Saídas"
      ],
      "metadata": {
        "id": "sLVkyRE_cga8"
      }
    },
    {
      "cell_type": "code",
      "source": [
        "# 1) Faça um programa que mostre a mensagem \"Olá, mundo!\" na tela.\n",
        "\n",
        "print(\"Olá, mundo!\")"
      ],
      "metadata": {
        "colab": {
          "base_uri": "https://localhost:8080/"
        },
        "id": "YVxRXKi7ta1X",
        "outputId": "31081e31-13d1-4dc1-b819-552c97f3761c"
      },
      "execution_count": null,
      "outputs": [
        {
          "output_type": "stream",
          "name": "stdout",
          "text": [
            "Olá, mundo!\n"
          ]
        }
      ]
    },
    {
      "cell_type": "code",
      "source": [
        "# 2) Faça um programa que peça um número e mostre a mensagem \"O número informado foi [número]\".\n",
        "\n",
        "numero = input('Digite um número: ')\n",
        "print(f'O número informado foi {numero}.')"
      ],
      "metadata": {
        "colab": {
          "base_uri": "https://localhost:8080/"
        },
        "id": "D3qCnaA8cjLm",
        "outputId": "83f3d282-4e8f-4f53-f9c4-58ef8a3bfc99"
      },
      "execution_count": null,
      "outputs": [
        {
          "output_type": "stream",
          "name": "stdout",
          "text": [
            "Digite um número: 20.5\n",
            "O número informado foi 20.5.\n"
          ]
        }
      ]
    },
    {
      "cell_type": "code",
      "source": [
        "# 3) Faça um programa que peça um número para o usuário (string), \n",
        "#    converta-o para float e depois imprima-o na tela. \n",
        "#    Você consegue fazer a mesma coisa, porém convertendo para int?\n",
        "\n",
        "# Solução\n",
        "numero = float(input('Digite um número: '))\n",
        "print(numero)\n",
        "# Para o caso em que eu receba um número decimal vou ter que primeiro fazer a conversão\n",
        "# de string para decimal e de decimal para inteiro para ser identificado o valor\n",
        "numero = int(float((input('Digite um número: '))))\n",
        "print(numero)"
      ],
      "metadata": {
        "id": "FwQu1Aumd8dF"
      },
      "execution_count": null,
      "outputs": []
    },
    {
      "cell_type": "code",
      "source": [
        "# 4) Faça um programa que peça dois números inteiros e imprima a soma deles.\n",
        "\n",
        "numero1 = int(input('Digite um número inteiro: '))\n",
        "numero2 = int(input('Digite um número inteiro: '))\n",
        "soma = numero1 + numero2\n",
        "print('A soma dos inteiros é: ',soma)"
      ],
      "metadata": {
        "colab": {
          "base_uri": "https://localhost:8080/"
        },
        "id": "U0Jn-ulhHlRp",
        "outputId": "6b9515a5-ab40-4c70-9033-aa2433d41fd5"
      },
      "execution_count": null,
      "outputs": [
        {
          "output_type": "stream",
          "name": "stdout",
          "text": [
            "Digite um número inteiro: 2\n",
            "Digite um número inteiro: 5\n",
            "A soma dos inteiros é:  7\n"
          ]
        }
      ]
    },
    {
      "cell_type": "code",
      "source": [
        "# 5) Faça um programa que peça as 4 notas bimestrais de um aluno e mostre a média aritmética delas.\n",
        "\n",
        "n1 = float(input(\"Primeira nota do aluno: \"))\n",
        "n2 = float(input(\"Segunda nota do aluno: \"))\n",
        "n3 = float(input(\"Terceira nota do aluno: \"))\n",
        "n4 = float(input(\"Quarta nota do aluno: \"))\n",
        "\n",
        "media = ( n1 + n2 + n3 + n4 )/4\n",
        "print(f'A média aritmética entre {n1}, {n2}, {n3} e {n4} é: {media:.2f} .')"
      ],
      "metadata": {
        "id": "cWB7-tS35l7V"
      },
      "execution_count": null,
      "outputs": []
    },
    {
      "cell_type": "code",
      "source": [
        "# 5) Faça um programa que peça as 4 notas bimestrais de um aluno e mostre a média aritmética delas.\n",
        "\n",
        "lista = []\n",
        "for a in range (4):\n",
        "  n = float(input('Informe a nota do bimestre: '))\n",
        "  lista.append((n))\n",
        "notas = lista\n",
        "media = float( notas[0] + notas[1] + notas[2] + notas[3])/float(len(notas))\n",
        "print(f'A média aritimética do aluno é: {media:.2f} .')"
      ],
      "metadata": {
        "colab": {
          "base_uri": "https://localhost:8080/"
        },
        "id": "0_gXV1vO_zFj",
        "outputId": "f177e8eb-8692-4a42-f93a-cc738fcdec08"
      },
      "execution_count": null,
      "outputs": [
        {
          "output_type": "stream",
          "name": "stdout",
          "text": [
            "Informe a nota do bimestre: 6.5\n",
            "Informe a nota do bimestre: 7.5\n",
            "Informe a nota do bimestre: 5.5\n",
            "Informe a nota do bimestre: 8.5\n",
            "A média aritimética do aluno é: 7.00 .\n"
          ]
        }
      ]
    },
    {
      "cell_type": "code",
      "source": [
        "# 6) Faça um programa que peça o raio de um círculo, calcule e mostre sua área.\n",
        "# Obs: Fórmula da área de um círculo: A = 3,14*(r**2), onde r é o raio.\n",
        "\n",
        "r = float(input('Informe o valor do raio: '))\n",
        "A = 3.14*(r**2)\n",
        "print(f'A área do círculo é: {A:.2f}cm².')"
      ],
      "metadata": {
        "colab": {
          "base_uri": "https://localhost:8080/"
        },
        "id": "CrVgkgv3KPuX",
        "outputId": "d813ce2d-3adc-41a8-dfa2-d5240f900c9c"
      },
      "execution_count": null,
      "outputs": [
        {
          "output_type": "stream",
          "name": "stdout",
          "text": [
            "Informe o valor do raio: 5\n",
            "A área do círculo é: 78.50cm².\n"
          ]
        }
      ]
    },
    {
      "cell_type": "code",
      "source": [
        "#7) Faça um programa que pergunte quanto você ganha por hora e o número de horas trabalhadas no mês e depois, \n",
        "#calcule e mostre o total do seu salário no referido mês.\n",
        "\n",
        "vh = float(input('Informe o salário por hora: '))\n",
        "ht = float(input('Informe as horas trabalhadas no mês: '))\n",
        "salario_bruto = vh * ht\n",
        "print(f'O salário bruto bruto no mês é: {salario_bruto:.2f}R$.')"
      ],
      "metadata": {
        "id": "zHvEbcF3POhB"
      },
      "execution_count": null,
      "outputs": []
    },
    {
      "cell_type": "code",
      "source": [
        "#8) Faça um programa que peça a temperatura em graus Fahrenheit (F), transforme e mostre a temperatura em graus Celsius (°C).\n",
        "# °C = (5 * (F-32) / 9)\n",
        "# Obs: Tente também fazer um programa que faça o inverso: peça a temperatura em graus Celsius e a transforme em graus Fahrenheit.\n",
        "\n",
        "# Fahrenheit para Celsius: \n",
        "Fc = float(input(\"Informe a temperatura em Fahrenheit: \"))\n",
        "Cf = (5 * (Fc-32) / 9)\n",
        "print(f'A temperatura em Celsius é: {Cf:.2f}°C.')\n",
        "# Celsius para Fahrenheit:\n",
        "C = float(input(\"Informe a temperatura em Celsius: \"))\n",
        "F = ((C * 9) / 5 ) + 32\n",
        "print(f'A temperatura em Fahrenheit é: {F:.2f}°F.' )"
      ],
      "metadata": {
        "colab": {
          "base_uri": "https://localhost:8080/"
        },
        "id": "btJiHJ5lY7hZ",
        "outputId": "89ca4651-6fc0-4900-dd46-899454697f6a"
      },
      "execution_count": null,
      "outputs": [
        {
          "output_type": "stream",
          "name": "stdout",
          "text": [
            "Informe a temperatura em Fahrenheit: 32\n",
            "A temperatura em Celsius é: 0.00°C.\n",
            "Informe a temperatura em Celsius: 0\n",
            "A temperatura em Fahrenheit é: 32.00°F.\n"
          ]
        }
      ]
    },
    {
      "cell_type": "code",
      "source": [
        "#9) Faça um programa que peça o dia, o mês e o ano para o usuário e imprima a data completa no formato dd/mm/aaaa.\n",
        "import datetime\n",
        "dia = input('Informe o dia: ')\n",
        "mes = input('Informe o mes: ')\n",
        "ano = input('Informe o ano: ')\n",
        "date_str= (f'{dia}/{mes}/{ano}')\n",
        "datetime_obj = datetime.datetime.strptime(date_str, '%d/%m/%Y')\n",
        "print(datetime_obj.strftime('%d/%m/%Y'))\n"
      ],
      "metadata": {
        "colab": {
          "base_uri": "https://localhost:8080/"
        },
        "id": "owti1WZHlGcc",
        "outputId": "227de67c-b1f5-408f-974d-ca9ff7a94bc7"
      },
      "execution_count": null,
      "outputs": [
        {
          "output_type": "stream",
          "name": "stdout",
          "text": [
            "Informe o dia: 22\n",
            "Informe o mes: 12\n",
            "Informe o ano: 1998\n",
            "22/12/1998\n"
          ]
        }
      ]
    },
    {
      "cell_type": "code",
      "source": [
        "# 10) Faça um programa que peça 2 números inteiros e um número real, calcule e mostre:\n",
        "# a) o produto do dobro do primeiro com metade do segundo.\n",
        "# b) a soma do triplo do primeiro com o terceiro.\n",
        "# c) o terceiro elevado ao cubo.\n",
        "\n",
        "n1_inteiro = int(input('Digite o primeiro n° inteiro: '))\n",
        "n2_inteiro = int(input('Digite o segundo n° inteiro: '))\n",
        "n_real = float(input('Digite um número real: '))\n",
        "\n",
        "a = (2*n1_inteiro)*(n2_inteiro/2)\n",
        "b = (3*n1_inteiro)+(n_real)\n",
        "c = (n_real)**2\n",
        "print(a)\n",
        "print(b)\n",
        "print(c)"
      ],
      "metadata": {
        "colab": {
          "base_uri": "https://localhost:8080/"
        },
        "id": "NOXG-NQeBY3Y",
        "outputId": "eb7a2297-fd50-4370-dfbe-3959192a0ac2"
      },
      "execution_count": null,
      "outputs": [
        {
          "output_type": "stream",
          "name": "stdout",
          "text": [
            "Digite o primeiro n° inteiro: 2\n",
            "Digite o segundo n° inteiro: 3\n",
            "Digite um número real: 4\n",
            "6.0\n",
            "10.0\n",
            "16.0\n"
          ]
        }
      ]
    },
    {
      "cell_type": "code",
      "source": [
        "# 11) Faça um programa que peça o peso e altura de uma pessoa e calcule seu IMC (Índice de Massa Corporal).\n",
        "# Obs: IMC = Peso/Altura**2\n",
        "\n",
        "peso = float(input('Informe seu peso: '))\n",
        "altura = float(input('Informe sua altura: '))\n",
        "\n",
        "imc = peso/(altura**2)\n",
        "print(f'Seu IMC é: {imc}')"
      ],
      "metadata": {
        "colab": {
          "base_uri": "https://localhost:8080/"
        },
        "id": "J7ifkfCPGODK",
        "outputId": "0cce2873-e24d-456d-c9d2-43ecb3daa3d4"
      },
      "execution_count": null,
      "outputs": [
        {
          "output_type": "stream",
          "name": "stdout",
          "text": [
            "Informe seu peso: 68\n",
            "Informe sua altura: 2\n",
            "Seu IMC é: 17.0.\n"
          ]
        }
      ]
    },
    {
      "cell_type": "code",
      "source": [
        "# 12) Faça um programa que peça um valor monetário e aumente-o em 15%. Seu programa deve imprimir a mensagem “O novo valor é [valor]”.\n",
        "\n",
        "valor_inicial = float(input('Informe o valor monertário: '))\n",
        "desconto = (valor_inicial)*0.15 \n",
        "valor = valor_inicial - desconto \n",
        "print(f'O novo valor é {valor}.')"
      ],
      "metadata": {
        "colab": {
          "base_uri": "https://localhost:8080/"
        },
        "id": "1m9hZAWYMgCq",
        "outputId": "6c279aab-4275-4d30-b10a-8d1101cbf7bc"
      },
      "execution_count": null,
      "outputs": [
        {
          "output_type": "stream",
          "name": "stdout",
          "text": [
            "Informe o valor monertário: 100\n",
            "O novo valor é 85.0.\n"
          ]
        }
      ]
    },
    {
      "cell_type": "code",
      "source": [
        "#13) Faça um programa que peça um valor monetário e diminua-o em 15%. Seu programa deve imprimir a mensagem “O novo valor é [valor]”.\n",
        "\n",
        "valor_inicial = float(input('Informe o valor monertário: '))\n",
        "desconto = (valor_inicial)*0.15 \n",
        "valor = valor_inicial - desconto \n",
        "print(f'O novo valor é {valor}.')"
      ],
      "metadata": {
        "id": "OzyhFeysa9BW"
      },
      "execution_count": null,
      "outputs": []
    },
    {
      "cell_type": "code",
      "source": [
        "#14) Peça para o usuário digitar uma velocidade inicial (em m/s), uma posição inicial (em m) e um instante de tempo (em s) \n",
        "#    e imprima a posição de um projétil nesse instante de tempo.\n",
        "#    Use a fórmula matemática:\n",
        "#    y(t) = y(0) + v(0)*t + (g*(t**2)/2)\n",
        "#    Onde, g é a aceleração da gravidade (-10m/s²), y(t) é a posição final, y(0) é a posição inicial, v(0) é a velocidade inicial e t é o instante de tempo.\n",
        "\n",
        "v0 = float(input('Informe a velocidade incial em m/s: '))\n",
        "y0 = float(input('Informe a posição inicial em m: '))\n",
        "t = float(input('Informe o instante de tempo: '))\n",
        "g = -10\n",
        "yt = y0 + v0*t + (g*(t**2)/2)\n",
        "print(f'A posição do projétil é: {yt}')"
      ],
      "metadata": {
        "colab": {
          "base_uri": "https://localhost:8080/"
        },
        "id": "k6azdrssZcAp",
        "outputId": "98e2759e-ef6f-4f23-b9a2-de7c02946e57"
      },
      "execution_count": null,
      "outputs": [
        {
          "output_type": "stream",
          "name": "stdout",
          "text": [
            "Informe a velocidade incial em m/s: 20\n",
            "Informe a posição inicial em m: 20\n",
            "Informe o instante de tempo: 1\n",
            "A posição do projétil é: 35.0\n"
          ]
        }
      ]
    },
    {
      "cell_type": "code",
      "source": [
        "# 15) Faça um programa que informe a data e a hora para o usuário. Para isso use a função datetime.now() do módulo datetime.\n",
        "\n",
        "from datetime import datetime, timezone, timedelta\n",
        "\n",
        "date_time_now = datetime.now()\n",
        "diferenca = timedelta(hours=-3)\n",
        "fuso_horario = timezone(diferenca)\n",
        "date_time_sp = date_time_now.astimezone(fuso_horario)\n",
        "date_time_str = date_time_sp.strftime('%d/%m/%Y %H:%M')\n",
        "date_time = datetime.strptime(date_time_str, '%d/%m/%Y %H:%M')\n",
        "print(date_time)\n",
        "\n",
        "\n"
      ],
      "metadata": {
        "id": "d_7nSBf48y29",
        "colab": {
          "base_uri": "https://localhost:8080/"
        },
        "outputId": "2705e400-c01c-4b22-bda4-6470a0d396ac"
      },
      "execution_count": null,
      "outputs": [
        {
          "output_type": "stream",
          "name": "stdout",
          "text": [
            "2022-08-22 14:17:00\n"
          ]
        }
      ]
    },
    {
      "cell_type": "code",
      "source": [
        "number1 = float(input('Digite o primeiro número: '))\n",
        "number2 = float(input('Digite o segundo número: '))\n",
        "\n",
        "if number1 > number2:\n",
        "  print(number1)\n",
        "elif number2 > number1:\n",
        "  print(number2)\n",
        "else:\n",
        "  print('Os números são iguais.')\n"
      ],
      "metadata": {
        "colab": {
          "base_uri": "https://localhost:8080/"
        },
        "id": "ksmCuxGXhox2",
        "outputId": "ac3f759e-3022-4f2e-a428-c860a7d8777c"
      },
      "execution_count": null,
      "outputs": [
        {
          "output_type": "stream",
          "name": "stdout",
          "text": [
            "Digite o primeiro número: 2\n",
            "Digite o segundo número: 2\n",
            "Digite números diferentes.\n"
          ]
        }
      ]
    },
    {
      "cell_type": "code",
      "source": [
        "# PROBLEMA EXTRA. Faça um programa que peça os 3 coeficientes (inteiros) de uma equação do 2° grau e mostre duas soluções. \n",
        "# Resposta em n° inteiros.\n",
        "\n",
        "A = int(input('Digite o coeficiente A: '))\n",
        "B = int(input('Digite o coeficiente B: '))\n",
        "C = int(input('Digite o coeficiente C: '))\n",
        "\n",
        "delta = B**2 - 4 * A * C \n",
        "\n",
        "x1 = (-B + delta ** 0.5)/(2*A)\n",
        "x2 = (-B - delta ** 0.5)/(2*A)\n",
        "\n",
        "if delta > 0:\n",
        "  print(f'X1 = {X1}')\n"
      ],
      "metadata": {
        "id": "BRrUYYC-r8Vv"
      },
      "execution_count": null,
      "outputs": []
    }
  ]
}