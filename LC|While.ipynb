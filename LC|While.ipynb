{
  "nbformat": 4,
  "nbformat_minor": 0,
  "metadata": {
    "colab": {
      "name": "LC|While.ipynb",
      "provenance": [],
      "collapsed_sections": [],
      "authorship_tag": "ABX9TyMAuOpI9pltxAPrqfTqFRJp",
      "include_colab_link": true
    },
    "kernelspec": {
      "name": "python3",
      "display_name": "Python 3"
    },
    "language_info": {
      "name": "python"
    }
  },
  "cells": [
    {
      "cell_type": "markdown",
      "metadata": {
        "id": "view-in-github",
        "colab_type": "text"
      },
      "source": [
        "<a href=\"https://colab.research.google.com/github/Ilmen-Emmanuel/LC-Intro-PythonDados/blob/main/LC%7CWhile.ipynb\" target=\"_parent\"><img src=\"https://colab.research.google.com/assets/colab-badge.svg\" alt=\"Open In Colab\"/></a>"
      ]
    },
    {
      "cell_type": "code",
      "execution_count": null,
      "metadata": {
        "id": "NTFIJX2LOM6L",
        "colab": {
          "base_uri": "https://localhost:8080/"
        },
        "outputId": "c35539df-85a3-41ef-dfa0-853567318854"
      },
      "outputs": [
        {
          "output_type": "stream",
          "name": "stdout",
          "text": [
            "Digite um número: 6\n",
            "1 2 3 4 5 6 "
          ]
        }
      ],
      "source": [
        "# 1) Faça um programa que peça ao usuário um número e imprima todos os números de um até o número dado.\n",
        "# Como no caso foi solicitado que os números fossem imprimidos lado a lado.\n",
        "numero = int(input('Digite um número: '))\n",
        "contador = 1\n",
        "while contador <= numero:\n",
        "    print(contador, end=' ') #Comando para não pular de linha, pois o resultado foi solocidatado de ser imprimido lado a lado\n",
        "    contador += 1"
      ]
    },
    {
      "cell_type": "code",
      "source": [
        "# 2) Peça ao usuário para digitar um número e imprima o fatorial de n.\n",
        "\n",
        "n = int(input('Digite um número para cálcular o fatorial: '))\n",
        "c = n\n",
        "fatorial = 1 \n",
        "while n > 0:\n",
        "  fatorial *= n\n",
        "  n -= 1 \n",
        "print('\\n')\n",
        "print(f'O resultado fatorial de {c} é: {fatorial}.')"
      ],
      "metadata": {
        "id": "utAt0wET6QgG",
        "colab": {
          "base_uri": "https://localhost:8080/"
        },
        "outputId": "5e86109c-988f-40cc-9c99-7aa68eafc01d"
      },
      "execution_count": null,
      "outputs": [
        {
          "output_type": "stream",
          "name": "stdout",
          "text": [
            "Digite um número para cálcular o fatorial: 5\n",
            "\n",
            "\n",
            "O resultado fatorial de 5 é: 120.\n"
          ]
        }
      ]
    },
    {
      "cell_type": "code",
      "source": [
        "# 3) Peça ao usuário para digitar um número N e some todos os números de 1 a N utilizando o laço de repetição while.\n",
        "\n",
        "N = int(input('Digite um número: '))\n",
        "contador = 1\n",
        "somador = 0\n",
        "while contador <= N:\n",
        "  somador += contador\n",
        "  contador += 1\n",
        "print(f'A soma de 1 até {N} é: {somador}')"
      ],
      "metadata": {
        "colab": {
          "base_uri": "https://localhost:8080/"
        },
        "id": "DBcSk_o2KfNn",
        "outputId": "d82ae3b9-2f38-44be-bdb5-2375f36f921d"
      },
      "execution_count": null,
      "outputs": [
        {
          "output_type": "stream",
          "name": "stdout",
          "text": [
            "Digite um número: 4\n",
            "A soma de 1 até 4 é: 10\n"
          ]
        }
      ]
    },
    {
      "cell_type": "code",
      "source": [
        "# 4) Faça um programa que imprima a tabuada do 9 (de 9*1 a 9*10) usando loops. \n",
        "print('Tabuada do 9:')\n",
        "contador_10 = 1 \n",
        "while contador_10 <= 10:\n",
        "  tabuada_9 = 9*contador_10\n",
        "  print(f'9*{contador_10}={tabuada_9}')\n",
        "  contador_10 += 1"
      ],
      "metadata": {
        "colab": {
          "base_uri": "https://localhost:8080/"
        },
        "id": "90BldIJFT-Wn",
        "outputId": "ccca078e-3bb6-4d48-feb2-3ce559182374"
      },
      "execution_count": null,
      "outputs": [
        {
          "output_type": "stream",
          "name": "stdout",
          "text": [
            "Tabuada do 9:\n",
            "9*1=9\n",
            "9*2=18\n",
            "9*3=27\n",
            "9*4=36\n",
            "9*5=45\n",
            "9*6=54\n",
            "9*7=63\n",
            "9*8=72\n",
            "9*9=81\n",
            "9*10=90\n"
          ]
        }
      ]
    },
    {
      "cell_type": "code",
      "source": [
        "# 5) Faça um programa, usando loops, que peça para um usuário digitar um número e que só finaliza quando o usuário digitar 0. \n",
        "# Ao final imprima a soma de todos os números digitados.\n",
        "\n",
        "numero = int(input('Digite um número: '))\n",
        "somador = 0\n",
        "while numero != 0:\n",
        "  somador += numero\n",
        "  numero = int(input('Digite um número para ser somado ou \"0\" caso deseje encerrar a soma: '))\n",
        "print(f'A soma dos valores digitados é: {somador}')"
      ],
      "metadata": {
        "colab": {
          "base_uri": "https://localhost:8080/"
        },
        "id": "Y-1bEb80a__9",
        "outputId": "0a22adf4-967b-4582-9c2d-f3e1322725d5"
      },
      "execution_count": null,
      "outputs": [
        {
          "output_type": "stream",
          "name": "stdout",
          "text": [
            "Digite um número: 3\n",
            "Digite um número para ser somado ou \"0\" caso deseje encerrar a soma: 2\n",
            "Digite um número para ser somado ou \"0\" caso deseje encerrar a soma: 0\n",
            "A soma dos valores digitados é: 5\n"
          ]
        }
      ]
    },
    {
      "cell_type": "markdown",
      "source": [
        "  6) Faça um programa que sorteia um número N e peça para o usuário adivinhar o número sorteado. A cada resposta errada, o seu programa deve imprimir um aviso dizendo que a resposta está errada e pedir novamente uma resposta ao usuário.\n",
        "\n",
        "Para a realização desse exercício, utilize alguma função da biblioteca random (e.g. randint())."
      ],
      "metadata": {
        "id": "vfOQkJ3Yf3-Y"
      }
    },
    {
      "cell_type": "code",
      "source": [
        "from random import randint\n",
        "\n",
        "N = randint(0,9)\n",
        "print('O computador vai sortear um número: ')\n",
        "resp_usuario = int(input('Digite um número para adivinhar: '))\n",
        "while resp_usuario != N:\n",
        "  print(f'Você digitou {resp_usuario}, o valor é diferente do sorteado.')\n",
        "  resp_usuario = int(input('Tente adivinhar novamente, digite um novo valor: '))\n",
        "print(f'Parabéns!! O número sorteado foi {N} você acertou.')"
      ],
      "metadata": {
        "colab": {
          "base_uri": "https://localhost:8080/"
        },
        "id": "a0eYE1duf0Yw",
        "outputId": "86bc82dc-a062-4059-8be1-584946aa0d51"
      },
      "execution_count": null,
      "outputs": [
        {
          "output_type": "stream",
          "name": "stdout",
          "text": [
            "O computador vai sortear um número: \n",
            "Digite um número para adivinhar: 8\n",
            "Você digitou 8, o valor é diferente do sorteado.\n",
            "Tente adivinhar novamente, digite um novo valor: 6\n",
            "Você digitou 6, o valor é diferente do sorteado.\n",
            "Tente adivinhar novamente, digite um novo valor: 9\n",
            "Você digitou 9, o valor é diferente do sorteado.\n",
            "Tente adivinhar novamente, digite um novo valor: 5\n",
            "Você digitou 5, o valor é diferente do sorteado.\n",
            "Tente adivinhar novamente, digite um novo valor: 2\n",
            "Você digitou 2, o valor é diferente do sorteado.\n",
            "Tente adivinhar novamente, digite um novo valor: 5\n",
            "Você digitou 5, o valor é diferente do sorteado.\n",
            "Tente adivinhar novamente, digite um novo valor: 4\n",
            "Você digitou 4, o valor é diferente do sorteado.\n",
            "Tente adivinhar novamente, digite um novo valor: 6\n",
            "Você digitou 6, o valor é diferente do sorteado.\n",
            "Tente adivinhar novamente, digite um novo valor: 0\n",
            "Parabéns!! o número sorteado foi 0 você acertou.\n"
          ]
        }
      ]
    },
    {
      "cell_type": "markdown",
      "source": [
        "7) Faça um programa que peça para o usuário digitar a idade, o salário e o sexo de uma pessoa até que as entradas digitadas sejam válidas.\n",
        "\n",
        "a. Idade: entre 0 e 150;\n",
        "\n",
        "b. Salário: maior que 0;\n",
        "\n",
        "c. Sexo: M, F ou Outro."
      ],
      "metadata": {
        "id": "BER5FoPFq_G-"
      }
    },
    {
      "cell_type": "code",
      "source": [
        "idade = int(input('Digite uma idade entre 0 e 150: '))\n",
        "while idade < 0 or idade > 150:\n",
        "  idade = int(input('Idade inválida. Digite uma idade entre 0 e 150: '))\n",
        "salario = float(input(f'Digite um salário:'))\n",
        "while salario <= 0:\n",
        "  salario = float(input('Salário inválido. Digite um salário: '))\n",
        "sexo = input('Digite um sexo: M, F ou Outro.').capitalize()\n",
        "\n",
        "while True:\n",
        "  if sexo == \"M\" or sexo == \"F\" or sexo == \"Outro\":\n",
        "    break\n",
        "  else:\n",
        "    sexo = input('Digite um sexo: M, F ou Outro. ').capitalize()\n",
        "  \n",
        "print(f'A idade é: {idade} anos; salário: {salario:.2f}R$; Sexo:{sexo}')"
      ],
      "metadata": {
        "colab": {
          "base_uri": "https://localhost:8080/"
        },
        "id": "hSJJI4GtrFXe",
        "outputId": "c9e5e87b-4d90-4690-edd0-4005c1994fc2"
      },
      "execution_count": null,
      "outputs": [
        {
          "output_type": "stream",
          "name": "stdout",
          "text": [
            "Digite uma idade entre 0 e 150: 150\n",
            "Digite um salário:1000\n",
            "Digite um sexo: M, F ou Outro.m\n",
            "A idade é:150 anos; salário: 1000.00R$; Sexo:M\n"
          ]
        }
      ]
    },
    {
      "cell_type": "markdown",
      "source": [
        "8) Desafio! - Calcule a soma de até mil termos da série 1 + 1/2 + 1/4 + 1/8 + 1/16 + ...\n",
        "\n",
        "Dica: Use três variáveis:\n",
        "\n",
        "• um contador, que começa em zero;\n",
        "\n",
        "• uma variável para a soma de todos os termos, que também começa em zero;\n",
        "\n",
        "• uma variável para cada termo, que começa em 1 e a cada loop é dividida por 2.\n",
        "\n",
        "A repetição da soma de mil termos pode ser feita com a função while contador < 1000."
      ],
      "metadata": {
        "id": "LNfcCP5iDaKJ"
      }
    },
    {
      "cell_type": "code",
      "source": [
        "contador = 0\n",
        "soma = 0\n",
        "valor = 1 \n",
        "\n",
        "while contador < 1000:\n",
        "  soma += valor\n",
        "  valor /= 2\n",
        "  contador +=1 \n",
        "\n",
        "print(soma)"
      ],
      "metadata": {
        "colab": {
          "base_uri": "https://localhost:8080/"
        },
        "id": "5RTPjE-mDiW5",
        "outputId": "ab517ad6-8f1c-439c-dbcc-c3b13c72bcd2"
      },
      "execution_count": null,
      "outputs": [
        {
          "output_type": "stream",
          "name": "stdout",
          "text": [
            "2.0\n"
          ]
        }
      ]
    },
    {
      "cell_type": "markdown",
      "source": [
        "9) Super Desafio! - Calcule a soma de mil termos dos inversos dos fatoriais: 1/(1!) + 1/(2!) + 1/(3!) + 1/(4!) + ...\n",
        "\n",
        "Dica: Assim como no exercício anterior use três variáveis: um contador; uma variável para a soma; e uma variável para os termos. Lembre-se de que 4! = 4*3*2*1 que também é igual a 4*3!."
      ],
      "metadata": {
        "id": "wdlJEJnbEjmY"
      }
    },
    {
      "cell_type": "code",
      "source": [
        "contador = 1\n",
        "somador = 0\n",
        "valor = 1 \n",
        "fatorial = 1\n",
        "\n",
        "while contador < 1000:\n",
        "  fatorial *= contador\n",
        "  valor = 1/fatorial\n",
        "  somador += valor\n",
        "  contador +=1 \n",
        "\n",
        "print(somador)"
      ],
      "metadata": {
        "id": "Ls9X8C8BEoOu"
      },
      "execution_count": null,
      "outputs": []
    }
  ]
}