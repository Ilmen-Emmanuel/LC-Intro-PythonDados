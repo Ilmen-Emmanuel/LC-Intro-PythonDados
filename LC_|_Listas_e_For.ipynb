{
  "nbformat": 4,
  "nbformat_minor": 0,
  "metadata": {
    "colab": {
      "name": "LC | Listas e For.ipynb",
      "provenance": [],
      "authorship_tag": "ABX9TyMNUpLuyM7wmARHWDo7KZsd",
      "include_colab_link": true
    },
    "kernelspec": {
      "name": "python3",
      "display_name": "Python 3"
    },
    "language_info": {
      "name": "python"
    }
  },
  "cells": [
    {
      "cell_type": "markdown",
      "metadata": {
        "id": "view-in-github",
        "colab_type": "text"
      },
      "source": [
        "<a href=\"https://colab.research.google.com/github/Ilmen-Emmanuel/LC-Intro-PythonDados/blob/main/LC_%7C_Listas_e_For.ipynb\" target=\"_parent\"><img src=\"https://colab.research.google.com/assets/colab-badge.svg\" alt=\"Open In Colab\"/></a>"
      ]
    },
    {
      "cell_type": "code",
      "execution_count": null,
      "metadata": {
        "colab": {
          "base_uri": "https://localhost:8080/"
        },
        "id": "c0ERNF0UIbjq",
        "outputId": "8e5da60d-835f-43db-cce7-28b333245d4f"
      },
      "outputs": [
        {
          "output_type": "stream",
          "name": "stdout",
          "text": [
            "1\n",
            "2\n",
            "3\n",
            "4\n",
            "5\n"
          ]
        }
      ],
      "source": [
        "# 1) Crie uma lista qualquer e faça um programa que imprima cada elemento da lista usando o for.\n",
        "\n",
        "lista = [ 1, 2, 3, 4, 5]\n",
        "for elemento in lista:\n",
        "  print(elemento)"
      ]
    },
    {
      "cell_type": "code",
      "source": [
        "# 2) Faça um programa que imprima todos os itens de uma lista usando while e compare com o exercício 1.\n",
        "\n",
        "lista = [ 1, 2, 3, 4, 5]\n",
        "contador = 0\n",
        "while contador < len(lista):\n",
        "  print(lista[contador])\n",
        "  contador += 1"
      ],
      "metadata": {
        "colab": {
          "base_uri": "https://localhost:8080/"
        },
        "id": "_Mqobc5HKlbO",
        "outputId": "64c2ebe6-b788-463f-ceef-d1854a760ca6"
      },
      "execution_count": null,
      "outputs": [
        {
          "output_type": "stream",
          "name": "stdout",
          "text": [
            "1\n",
            "2\n",
            "3\n",
            "4\n",
            "5\n"
          ]
        }
      ]
    },
    {
      "cell_type": "code",
      "source": [
        "# 3) Faça um programa que peça para o usuário digitar um número n e imprima uma lista com todos os números de 0 a n-1.\n",
        "# Exemplo: se o usuário digitar 5, o programa deve imprimir [0, 1, 2, 3, 4]\n",
        "\n",
        "n = int(input('Digite um número: '))\n",
        "lista = []\n",
        "contador = 0\n",
        "for elemento in range(n):\n",
        "  lista.append(contador)\n",
        "  contador += 1\n",
        "\n",
        "print(lista)"
      ],
      "metadata": {
        "colab": {
          "base_uri": "https://localhost:8080/"
        },
        "id": "KlmolU9lg5ok",
        "outputId": "6694deb1-893f-4a1d-97c6-38ec08d2e4f6"
      },
      "execution_count": null,
      "outputs": [
        {
          "output_type": "stream",
          "name": "stdout",
          "text": [
            "Digite um número: 5\n",
            "[0, 1, 2, 3, 4]\n"
          ]
        }
      ]
    },
    {
      "cell_type": "code",
      "source": [
        "# 4) Faça um programa que olhe todos os itens de uma lista e diga quantos deles são pares.\n",
        "\n",
        "lista = [ 0, 1, 2, 3, 4, 5, 6, 7, 8, 9]\n",
        "lista_pares = []\n",
        "\n",
        "for element in lista:\n",
        "  if element == 0:\n",
        "    continue # Zero é um valor neutro, portanto não é par\n",
        "  elif element%2 == 0:\n",
        "    lista_pares.append(element)\n",
        "  else:\n",
        "    pass\n",
        "print(f'{lista_pares}, portanto temos {len(lista_pares)} números pares na lista.')"
      ],
      "metadata": {
        "colab": {
          "base_uri": "https://localhost:8080/"
        },
        "id": "LDo3xDp-3clE",
        "outputId": "87a6a99b-b706-4865-d33d-243d116fe7f7"
      },
      "execution_count": null,
      "outputs": [
        {
          "output_type": "stream",
          "name": "stdout",
          "text": [
            "[2, 4, 6, 8], portanto temos 4 números pares na lista.\n"
          ]
        }
      ]
    },
    {
      "cell_type": "code",
      "source": [
        "# 5) Agora usando a função max() faça um programa que imprima os três maiores números de uma lista.\n",
        "# Dica: Use o método próprio de listas .remove().\n",
        "\n",
        "lista = [ 0, 1, 2, 3, 4, 5, 6, 7, 8, 9]\n",
        "for i in range(3):\n",
        "  print(max(lista))\n",
        "  lista.remove(max(lista))"
      ],
      "metadata": {
        "id": "sZFFwwjpA-12",
        "colab": {
          "base_uri": "https://localhost:8080/"
        },
        "outputId": "8390b9e7-b5b6-4473-a15c-9d514bb39538"
      },
      "execution_count": null,
      "outputs": [
        {
          "output_type": "stream",
          "name": "stdout",
          "text": [
            "9\n",
            "8\n",
            "7\n"
          ]
        }
      ]
    },
    {
      "cell_type": "code",
      "source": [
        "# 6) Faça um programa que imprima o maior número de uma lista, sem usar a função max().\n",
        "\n",
        "lista = [ 10, 1, 2, 3, 4, 5, 6, 7, 8, 9]\n",
        "lista.sort() # Ordena a lista do menor número para o maior\n",
        "# Dessa forma o último indice irá retornar sempre o maior número\n",
        "maior_numero = lista.pop()\n",
        "print(f'O maior número da lista ordenada será seu último indice, portanto: {maior_numero} .')"
      ],
      "metadata": {
        "colab": {
          "base_uri": "https://localhost:8080/"
        },
        "id": "bL69ielMiQyz",
        "outputId": "584d5876-afb6-42e6-d009-5641029ec6cf"
      },
      "execution_count": null,
      "outputs": [
        {
          "output_type": "stream",
          "name": "stdout",
          "text": [
            "O maior número da lista ordenada será seu último indice, portanto: 10 .\n"
          ]
        }
      ]
    },
    {
      "cell_type": "code",
      "source": [
        "# 7) Faça um programa que, dadas duas listas de mesmo tamanho, crie uma nova lista com cada elemento igual \n",
        "# a soma dos elementos da lista 1 com os da lista 2, na mesma posição.\n",
        "# Exemplo:\n",
        "# Dadas lista1 = [1, 4, 5] e lista2 = [2, 2, 3], então lista3 = [1+2, 4+2, 5+3] = [3, 6, 8]\n",
        "\n",
        "lista1 = [1, 4, 5]\n",
        "lista2 = [2, 2, 3]\n",
        "lista3 = []\n",
        "for i in range(len(lista1)):\n",
        "  lista3.append(lista1[i] + lista2[i])\n",
        "print(lista3)"
      ],
      "metadata": {
        "colab": {
          "base_uri": "https://localhost:8080/"
        },
        "id": "gbBf-OIpq_fo",
        "outputId": "1ad4d6db-ac91-4a49-8c6e-3afe50e4e807"
      },
      "execution_count": null,
      "outputs": [
        {
          "output_type": "stream",
          "name": "stdout",
          "text": [
            "[3, 6, 8]\n"
          ]
        }
      ]
    },
    {
      "cell_type": "code",
      "source": [
        "# 8) Faça um programa que pede para o usuário digitar 5 números e, ao final, imprime uma lista com os 5 números digitados pelo usuário \n",
        "# (sem converter os números para int ou float).\n",
        "# Exemplo: Se o usuário digitar 1, 5, 2, 3, 6, o programa deve imprimir a lista ['1','5','2','3','6']\n",
        "lista = []\n",
        "for i in range(5):\n",
        "  n = input('Digite um número para adicionar a lista:')\n",
        "  lista.append(n)\n",
        "print(lista)"
      ],
      "metadata": {
        "colab": {
          "base_uri": "https://localhost:8080/"
        },
        "id": "xEOKiGBRuxqp",
        "outputId": "67d90b0d-c9d9-466b-8b5c-4f128a4466a8"
      },
      "execution_count": null,
      "outputs": [
        {
          "output_type": "stream",
          "name": "stdout",
          "text": [
            "Digite um número:1\n",
            "Digite um número:5\n",
            "Digite um número:2\n",
            "Digite um número:3\n",
            "Digite um número:6\n",
            "['1', '5', '2', '3', '6']\n"
          ]
        }
      ]
    },
    {
      "cell_type": "code",
      "source": [
        "# 9) Pegue a lista gerada no exercício anterior e transforme cada um dos itens dessa lista em um float.\n",
        "# OBS: Não é para alterar o programa anterior, mas sim a lista gerada por ele.\n",
        "lista = ['1', '5', '2', '3', '6'] # Gerada anteriormente \n",
        "\n",
        "for i in range(len(lista)):\n",
        "  lista[i] = float(lista[i])\n",
        "print(lista) #Os itens da lista da lista que eram strings foram transformados em float"
      ],
      "metadata": {
        "colab": {
          "base_uri": "https://localhost:8080/"
        },
        "id": "oFzsAF3Rx8Jx",
        "outputId": "8e5087c8-8078-403d-8c26-9e4bfaaa70e9"
      },
      "execution_count": null,
      "outputs": [
        {
          "output_type": "stream",
          "name": "stdout",
          "text": [
            "[1.0, 5.0, 2.0, 3.0, 6.0]\n"
          ]
        }
      ]
    },
    {
      "cell_type": "code",
      "source": [
        "# 10) Faça um programa que peça as 4 notas bimestrais e mostre a média aritmética delas, usando listas.\n",
        "\n",
        "somador = 0\n",
        "notas = []\n",
        "for i in range(1,5):\n",
        "  nota = float(input(f'Digite sua nota {i}: '))\n",
        "  notas.append(nota)\n",
        "\n",
        "for element in notas:\n",
        "  somador += element\n",
        "  media = somador/len(notas)\n",
        "print(f'A média aritmimética das notas é: {media}')"
      ],
      "metadata": {
        "colab": {
          "base_uri": "https://localhost:8080/"
        },
        "id": "1XYU9DBU56Rx",
        "outputId": "42403c81-a272-4acb-ae98-30240b927508"
      },
      "execution_count": null,
      "outputs": [
        {
          "output_type": "stream",
          "name": "stdout",
          "text": [
            "Digite sua nota 1: 7\n",
            "Digite sua nota 2: 6\n",
            "Digite sua nota 3: 5\n",
            "Digite sua nota 4: 8\n",
            "A média aritmimética das notas é: 6.5\n"
          ]
        }
      ]
    },
    {
      "cell_type": "markdown",
      "source": [
        "11) Crie uma lista de 10 números e imprima:\n",
        "\n",
        "a. uma lista com os 4 primeiros números;\n",
        "\n",
        "b. uma lista com os 5 últimos números;\n",
        "\n",
        "c. uma lista contendo apenas os elementos das posições pares;\n",
        "\n",
        "d. uma lista contendo apenas os elementos das posições ímpares;\n",
        "\n",
        "e. a lista inversa da lista sorteada (isto é, uma lista que começa com o último elemento da lista sorteada e termina com o primeiro);\n",
        "\n",
        "f. uma lista inversa dos 5 primeiros números;\n",
        "\n",
        "g. uma lista inversa dos 5 últimos números."
      ],
      "metadata": {
        "id": "mIzc0l28DT0c"
      }
    },
    {
      "cell_type": "code",
      "source": [
        "lista = [ 0, 1, 2, 3, 4, 5, 6, 7, 8, 9]\n",
        "\n",
        "print(f' a. {lista[:4]}')\n",
        "print('\\n')\n",
        "print(f' b. {lista[-5:]}')\n",
        "print('\\n')\n",
        "print(f' c. {lista[::2]}')\n",
        "print('\\n')\n",
        "print(f' d. {lista[1::2]}')\n",
        "print('\\n')\n",
        "print(f' e. {[*reversed(sorted(lista[::-1]))]}')\n",
        "print('\\n')\n",
        "print(f' f. {lista[-6::-1]}')\n",
        "print('\\n')\n",
        "print(f' g. {lista[4::-1]}')"
      ],
      "metadata": {
        "colab": {
          "base_uri": "https://localhost:8080/"
        },
        "id": "7eBpKJMKDOK3",
        "outputId": "9b8b2e42-0254-473d-b7cb-fc7fb5ba8acc"
      },
      "execution_count": null,
      "outputs": [
        {
          "output_type": "stream",
          "name": "stdout",
          "text": [
            " a. [0, 1, 2, 3]\n",
            "\n",
            "\n",
            " b. [5, 6, 7, 8, 9]\n",
            "\n",
            "\n",
            " c. [0, 2, 4, 6, 8]\n",
            "\n",
            "\n",
            " d. [1, 3, 5, 7, 9]\n",
            "\n",
            "\n",
            " e. [9, 8, 7, 6, 5, 4, 3, 2, 1, 0]\n",
            "\n",
            "\n",
            " f. [4, 3, 2, 1, 0]\n",
            "\n",
            "\n",
            " g. [4, 3, 2, 1, 0]\n"
          ]
        }
      ]
    },
    {
      "cell_type": "code",
      "source": [
        "# 12) Faça um programa que sorteia 10 números entre 0 e 100 e conte quantos números sorteados são maiores que 50.\n",
        "# Obs.: Precisa usar a biblioteca random\n",
        "from random import randint\n",
        "lista = []\n",
        "for i in range(10):\n",
        "  x = randint(0,100)\n",
        "  lista.append(x)\n",
        "contador = 0\n",
        "for element in lista:\n",
        "  if element > 50:\n",
        "    contador += 1\n",
        "  else:\n",
        "    continue\n",
        "print(lista)\n",
        "print(f'Temos {contador} números maiores que 50.')"
      ],
      "metadata": {
        "colab": {
          "base_uri": "https://localhost:8080/"
        },
        "id": "ld6QwlXPBJn1",
        "outputId": "00260f7b-0036-462c-a7f5-b98747aa4515"
      },
      "execution_count": null,
      "outputs": [
        {
          "output_type": "stream",
          "name": "stdout",
          "text": [
            "[12, 46, 92, 19, 64, 73, 77, 37, 32, 96]\n",
            "Temos 5 números maiores que 50.\n"
          ]
        }
      ]
    },
    {
      "cell_type": "markdown",
      "source": [
        "13) Faça um programa que sorteie 10 números entre 0 e 100 e imprima:\n",
        "\n",
        "a. o maior número sorteado;\n",
        "\n",
        "b. o menor número sorteado;\n",
        "\n",
        "c. a média dos números sorteados;\n",
        "\n",
        "d. a soma dos números sorteados.\n",
        "\n",
        "Obs.: Precisa usar a biblioteca random"
      ],
      "metadata": {
        "id": "HwhU_eeOHGRK"
      }
    },
    {
      "cell_type": "code",
      "source": [
        "from random import randint\n",
        "lista = []\n",
        "for i in range(10):\n",
        "  x = randint(0,100)\n",
        "  lista.append(x)\n",
        "print(lista)\n",
        "print(f' a. {max(lista)}')\n",
        "print(f' b. {min(lista)}')\n",
        "print(f' c. {sum(lista)/len(lista)}')\n",
        "print(f' d. {sum(lista)}')"
      ],
      "metadata": {
        "colab": {
          "base_uri": "https://localhost:8080/"
        },
        "id": "fGXBNNCUHEIa",
        "outputId": "c9e60795-e8a7-40ef-b522-dc118929be74"
      },
      "execution_count": null,
      "outputs": [
        {
          "output_type": "stream",
          "name": "stdout",
          "text": [
            "[55, 21, 57, 21, 70, 36, 63, 58, 12, 70]\n",
            " a. 70\n",
            " b. 12\n",
            " c. 46.3\n",
            " d. 463\n"
          ]
        }
      ]
    },
    {
      "cell_type": "markdown",
      "source": [
        "14) Super Desafio - Faça um programa que pede para o usuário digitar o CPF e verifica se ele é válido. Para isso, primeiramente o programa deve multiplicar cada um dos 9 primeiros dígitos do CPF pelos números de 10 a 2 e somar todas as respostas. O resultado deve ser multiplicado por 10 e dividido por 11. O resto dessa divisão deve ser igual ao primeiro dígito verificador (10º dígito). Em seguida, o programa deve multiplicar cada um dos 10 primeiros dígitos do CPF pelos números de 11 a 2 e repetir o procedimento anterior para verificar o segundo dígito verificador.\n",
        "\n",
        "Exemplo:\n",
        "\n",
        "Se o CPF for 286.255.878-87 o programa deve fazer primeiro:\n",
        "\n",
        "x = (2*10 + 8*9 + 6*8 + 2*7 + 5*6 + 5*5 + 8*4 + 7*3 + 8*2)\n",
        "\n",
        "Em seguida, o programa deve testar se x*10%11 == 8 (o décimo número do CPF). Se sim, o programa deve calcular:\n",
        "\n",
        "x = (2*11 + 8*10 + 6*9 + 2*8 + 5*7 + 5*6 + 8*5 + 7*4 + 8*3 + 8*2)\n",
        "\n",
        "e verificar se x*10%11 == 7 (o décimo primeiro número do CPF)."
      ],
      "metadata": {
        "id": "5PQt_oBhJanv"
      }
    },
    {
      "cell_type": "code",
      "source": [
        "CPF = input('Digite o CPF: ')\n",
        "CPF_list = list(CPF)\n",
        "verificacao = 0\n",
        "resultado = 0\n",
        "\n",
        "for element in CPF_list:\n",
        "  if element == '.':\n",
        "    CPF_list.remove('.')\n",
        "  elif element == '-':\n",
        "    CPF_list.remove('-')\n",
        "  else:\n",
        "    continue \n",
        "for i in range(len(CPF_list)):\n",
        "  CPF_list[i] = int(CPF_list[i])\n",
        "for i in range(9):\n",
        "  verificacao += CPF_list[i] * (10 - i)\n",
        "resultado = (verificacao * 10) % 11\n",
        "if resultado == CPF_list[9]:\n",
        "  verificacao = 0\n",
        "  for i in range(10):\n",
        "    verificacao += CPF_list[i] * (11 - i)\n",
        "  resultado = 0 \n",
        "  resultado = (verificacao * 10) % 11\n",
        "  if resultado == CPF_list[10]:\n",
        "    print('CPF válido!')\n",
        "  else:\n",
        "    print('CPF invalidado na segunda verificação.')\n",
        "\n",
        "else:\n",
        "  print('CPF invalidado na primeira verificação.') "
      ],
      "metadata": {
        "colab": {
          "base_uri": "https://localhost:8080/"
        },
        "id": "YcL-vAcwJZ2l",
        "outputId": "48af348e-5633-436b-b8c8-b47e0b0a2023"
      },
      "execution_count": 32,
      "outputs": [
        {
          "output_type": "stream",
          "name": "stdout",
          "text": [
            "Digite o CPF: 286.255.878-87\n",
            "CPF válido!\n"
          ]
        }
      ]
    }
  ]
}