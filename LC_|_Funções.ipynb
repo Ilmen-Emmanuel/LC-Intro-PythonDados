{
  "nbformat": 4,
  "nbformat_minor": 0,
  "metadata": {
    "colab": {
      "name": "LC | Funções.ipynb",
      "provenance": [],
      "authorship_tag": "ABX9TyNtga3ax2X7FYLfn48icDhA",
      "include_colab_link": true
    },
    "kernelspec": {
      "name": "python3",
      "display_name": "Python 3"
    },
    "language_info": {
      "name": "python"
    }
  },
  "cells": [
    {
      "cell_type": "markdown",
      "metadata": {
        "id": "view-in-github",
        "colab_type": "text"
      },
      "source": [
        "<a href=\"https://colab.research.google.com/github/Ilmen-Emmanuel/LC-Intro-PythonDados/blob/main/LC_%7C_Fun%C3%A7%C3%B5es.ipynb\" target=\"_parent\"><img src=\"https://colab.research.google.com/assets/colab-badge.svg\" alt=\"Open In Colab\"/></a>"
      ]
    },
    {
      "cell_type": "code",
      "execution_count": null,
      "metadata": {
        "id": "4hazfwpY575H"
      },
      "outputs": [],
      "source": [
        "# 1) Faça uma função que recebe um número e imprime seu dobro.\n",
        "\n",
        "def dobro(a):\n",
        "  resultado = a * 2\n",
        "  print(resultado)"
      ]
    },
    {
      "cell_type": "code",
      "source": [
        "# Faça uma função que recebe o valor do raio de um círculo e retorna o valor do comprimento de sua circunferência: C = 2*pi*r.\n",
        "\n",
        "def arco(r):\n",
        "  pi = 3.14159265\n",
        "  C = 2 * (pi) * r\n",
        "  return C"
      ],
      "metadata": {
        "colab": {
          "base_uri": "https://localhost:8080/"
        },
        "id": "KCfJPVzCaqww",
        "outputId": "a610fcec-9e44-4000-8a07-136fbcb2ffae"
      },
      "execution_count": null,
      "outputs": [
        {
          "output_type": "stream",
          "name": "stdout",
          "text": [
            "6.2831853\n"
          ]
        }
      ]
    },
    {
      "cell_type": "code",
      "source": [
        "# 3) Faça uma função para cada operação matemática básica (soma, subtração, multiplicação e divisão). \n",
        "# As funções devem receber dois números e retornar o resultado da operação.\n",
        "\n",
        "def soma(a, b):\n",
        "  resultado_soma = a + b\n",
        "  return resultado_soma\n",
        "\n",
        "def subtracao(a, b):\n",
        "  resultado_subtracao = a - b\n",
        "  return resultado_subtracao\n",
        "\n",
        "def multiplicacao(a, b):\n",
        "  resultado_multiplicacao = a * b\n",
        "  return resultado_multiplicacao\n",
        "\n",
        "def divisao(a, b):\n",
        "  resultado_divisao = a / b\n",
        "  return resultado_divisao"
      ],
      "metadata": {
        "colab": {
          "base_uri": "https://localhost:8080/"
        },
        "id": "l4wZxNcWbviQ",
        "outputId": "8e54158c-8848-48ac-a4dd-8810be0833b7"
      },
      "execution_count": null,
      "outputs": [
        {
          "output_type": "stream",
          "name": "stdout",
          "text": [
            "4\n",
            "0\n",
            "6\n",
            "1.0\n"
          ]
        }
      ]
    },
    {
      "cell_type": "code",
      "source": [
        "# 4) Faça uma função que recebe um nome e imprime “olá, [nome]”.\n",
        "\n",
        "def saudacao(nome):\n",
        "  print(f'olá, {nome}.')\n",
        "saudacao('Ilmen')"
      ],
      "metadata": {
        "colab": {
          "base_uri": "https://localhost:8080/"
        },
        "id": "nr_r0S3ndM6Q",
        "outputId": "c86c37b2-b875-4966-f06a-578f44be339f"
      },
      "execution_count": null,
      "outputs": [
        {
          "output_type": "stream",
          "name": "stdout",
          "text": [
            "olá, Ilmen.\n"
          ]
        }
      ]
    },
    {
      "cell_type": "code",
      "source": [
        "# 5) Faça uma função que recebe um nome e um horário e imprime “Bom dia, [nome]”, caso seja antes de 12h, \n",
        "# “Boa Tarde, [nome]”, caso seja entre 12h e 18h e “Boa noite, [nome]” se for após às 18h.\n",
        "\n",
        "def saudacao_horario(nome, horario):\n",
        "  if horario < 0 or horario > 24:\n",
        "    print('O parâmetro deve ser entre 0 e 24 horas.')\n",
        "  else:\n",
        "    if horario >= 0 and horario < 12:\n",
        "      print(f'Bom dia, {nome}')\n",
        "    elif horario >= 12 and horario <= 18:\n",
        "      print(f'Boa tarde, {nome}')\n",
        "    else:\n",
        "      print(f'Boa noite, {nome}')"
      ],
      "metadata": {
        "colab": {
          "base_uri": "https://localhost:8080/"
        },
        "id": "6hOji4eIkloi",
        "outputId": "dae9537b-bb6a-429f-f18e-09ed4a1b7c6b"
      },
      "execution_count": null,
      "outputs": [
        {
          "output_type": "stream",
          "name": "stdout",
          "text": [
            "Boa tarde, ilmen\n",
            "O parâmetro deve ser entre 0 e 24 horas.\n"
          ]
        }
      ]
    },
    {
      "cell_type": "code",
      "source": [
        "# 6) Faça uma função que recebe um número e retorna True se ele é par ou False, se ele é ímpar.\n",
        "\n",
        "def recebeNum(numero):\n",
        "  paridade = numero % 2\n",
        "  if numero == 0:\n",
        "    print('0 é um elemento neutro.')\n",
        "  elif paridade == 0:\n",
        "    return True\n",
        "  else:\n",
        "    return False"
      ],
      "metadata": {
        "colab": {
          "base_uri": "https://localhost:8080/"
        },
        "id": "qj5EGhRRqtd4",
        "outputId": "bc1fe60b-6fd6-4024-f271-3a0a3ce8d392"
      },
      "execution_count": null,
      "outputs": [
        {
          "output_type": "stream",
          "name": "stdout",
          "text": [
            "0 é um elemento neutro.\n"
          ]
        }
      ]
    },
    {
      "cell_type": "code",
      "source": [
        "# 7) Faça uma função que sorteia 10 números aleatórios entre 0 e 100 e retorna o maior entre eles.\n",
        "\n",
        "def sorteia():\n",
        "  from random import randint\n",
        "  sorteados_10 = []\n",
        "  for i in range(10):\n",
        "    x = randint(0, 100)\n",
        "    sorteados_10.append(x)\n",
        "  maior = max(sorteados_10)\n",
        "  return maior\n",
        "\n",
        "sorteia()"
      ],
      "metadata": {
        "colab": {
          "base_uri": "https://localhost:8080/"
        },
        "id": "jEbkNmu1u-g2",
        "outputId": "8f570432-42e7-4587-c722-c6b43b138b27"
      },
      "execution_count": null,
      "outputs": [
        {
          "output_type": "execute_result",
          "data": {
            "text/plain": [
              "98"
            ]
          },
          "metadata": {},
          "execution_count": 53
        }
      ]
    },
    {
      "cell_type": "code",
      "source": [
        "# 8) Faça uma função que recebe um número n de entrada, sorteia n números aleatórios entre 0 e 100 e retorna a média deles.\n",
        "\n",
        "def sorteia_(n):\n",
        "  from random import randint\n",
        "  sorteados = []\n",
        "  for i in range(n):\n",
        "    x = randint(0, 100)\n",
        "    sorteados.append(x)\n",
        "  media = (sum(sorteados)/len(sorteados))\n",
        "  return media"
      ],
      "metadata": {
        "colab": {
          "base_uri": "https://localhost:8080/"
        },
        "id": "8f44djZtxBne",
        "outputId": "213c76fa-2892-4a55-f077-d6947c7c740f"
      },
      "execution_count": null,
      "outputs": [
        {
          "output_type": "execute_result",
          "data": {
            "text/plain": [
              "67.6"
            ]
          },
          "metadata": {},
          "execution_count": 63
        }
      ]
    },
    {
      "cell_type": "code",
      "source": [
        "# 9) Faça uma função que recebe uma lista de palavras e retorna uma lista contendo as mesmas palavras da lista anterior, porém escritas em caixa alta.\n",
        "\n",
        "def escreve_M(lista_str):\n",
        "  str_lista = ' '.join(lista_str)\n",
        "  caixa_alta = str_lista.upper()\n",
        "  lista_M = caixa_alta.split()\n",
        "  return lista_M"
      ],
      "metadata": {
        "id": "V46RO4A407F5",
        "colab": {
          "base_uri": "https://localhost:8080/"
        },
        "outputId": "dc5f3b01-d4fb-4223-a7e2-75a232fc4154"
      },
      "execution_count": null,
      "outputs": [
        {
          "output_type": "execute_result",
          "data": {
            "text/plain": [
              "['MEU', 'NOME', 'É', 'ILMEN']"
            ]
          },
          "metadata": {},
          "execution_count": 82
        }
      ]
    },
    {
      "cell_type": "code",
      "source": [
        "# 10) Faça uma função que recebe duas listas e retorna a soma item a item dessas listas.\n",
        "# Exemplo: Se a função receber as listas [1,4,3] e [3,5,1], então a função deve retornar [1+3, 4+5, 3+1] = [4, 9, 4].\n",
        "\n",
        "def soma_lista(lista1,lista2):\n",
        "  lista3 = []\n",
        "\n",
        "  if len(lista1) != len(lista2):\n",
        "\n",
        "    if len(lista1) > len(lista2):\n",
        "      diferenca = len(lista1) - len(lista2)\n",
        "      for i in range(diferenca):\n",
        "        lista2.append(0)  \n",
        "    else:\n",
        "      diferenca = len(lista2) - len(lista1)\n",
        "      for i in range(diferenca):\n",
        "        lista1.append(0)\n",
        "\n",
        "    for i in range(len(lista1)):\n",
        "      valor = lista1[i] + lista2[i]\n",
        "      lista3.append(valor)\n",
        "    return lista3\n",
        "\n",
        "  else:\n",
        "    for i in range(len(lista1)):\n",
        "      valor = lista1[i] + lista2[i]\n",
        "      lista3.append(valor)\n",
        "    return lista3\n",
        "    \n",
        "  print(lista1, lista2)\n",
        "\n",
        "soma_lista([1,4,3,6],[3,5,1])"
      ],
      "metadata": {
        "colab": {
          "base_uri": "https://localhost:8080/"
        },
        "id": "vU5mAFcZKQoW",
        "outputId": "d051fad0-8a69-40ae-a26b-e21a204680d8"
      },
      "execution_count": null,
      "outputs": [
        {
          "output_type": "execute_result",
          "data": {
            "text/plain": [
              "[4, 9, 4, 6]"
            ]
          },
          "metadata": {},
          "execution_count": 100
        }
      ]
    },
    {
      "cell_type": "code",
      "source": [
        "# 11) Faça uma função que recebe um número x e uma lista numérica e retorna uma lista cujos elementos são os itens da lista de entrada multiplicado por x.\n",
        "# Exemplo:\n",
        "# Se a função receber o número 5 e a lista [3,5,1], então a função deve retornar [5x3, 5x5, 5x1] = [15, 25, 5].\n",
        "\n",
        "def EscalarMultiplicaLista( n, lista):\n",
        "  saida = []\n",
        "  for i in range(len(lista)):\n",
        "    saida.append(lista[i] * n)\n",
        "  return saida\n",
        "\n",
        "EscalarMultiplicaLista(5,[3,5,1])"
      ],
      "metadata": {
        "id": "7jYmS-zIQlBu",
        "colab": {
          "base_uri": "https://localhost:8080/"
        },
        "outputId": "b53314a3-e5ab-423e-9dc3-70644567e5cd"
      },
      "execution_count": null,
      "outputs": [
        {
          "output_type": "execute_result",
          "data": {
            "text/plain": [
              "[15, 25, 5]"
            ]
          },
          "metadata": {},
          "execution_count": 3
        }
      ]
    },
    {
      "cell_type": "code",
      "source": [
        "# 12) Faça uma função que receba duas listas e retorne o produto item a item dessas listas.\n",
        "# Exemplo: Se a função receber as listas [1,4,3] e [3,5,1], então a função deve retornar [1x3, 4x5, 3x1] = [3, 20, 3].\n",
        "\n",
        "def Produto2Listas(lista1,lista2):\n",
        "  saida = []\n",
        "  for i in range(len(lista1)):\n",
        "    saida.append(lista1[i] * lista2[i])\n",
        "  return saida\n",
        "\n",
        "Produto2Listas([1,4,3],[3,5,1])"
      ],
      "metadata": {
        "colab": {
          "base_uri": "https://localhost:8080/"
        },
        "id": "BicoFt-I-qNF",
        "outputId": "be304cab-7c1a-4267-bf66-6c70cec626f8"
      },
      "execution_count": null,
      "outputs": [
        {
          "output_type": "execute_result",
          "data": {
            "text/plain": [
              "[3, 20, 3]"
            ]
          },
          "metadata": {},
          "execution_count": 6
        }
      ]
    },
    {
      "cell_type": "code",
      "source": [
        "# 13) Faça uma função que recebe uma lista de números e retorna a soma dos elementos dessa lista.\n",
        "\n",
        "def SomaLista(lista):\n",
        "  soma = 0 \n",
        "  for item in lista:\n",
        "    soma += item \n",
        "    return soma\n",
        "# OU\n",
        "# def SomaLista(lista):\n",
        "#   return sum(lista)"
      ],
      "metadata": {
        "id": "tWXcS1mZ_0uY"
      },
      "execution_count": null,
      "outputs": []
    },
    {
      "cell_type": "code",
      "source": [
        "# 14) Faça uma função que recebe uma lista de números e retorna a média aritmética dos elementos dessa lista.\n",
        "\n",
        "def mediaLista(lista):\n",
        "  soma = 0\n",
        "  for item in lista:\n",
        "    soma += item\n",
        "    media = soma/len(lista)\n",
        "  return media"
      ],
      "metadata": {
        "id": "j4Z38-gaApwJ"
      },
      "execution_count": null,
      "outputs": []
    },
    {
      "cell_type": "code",
      "source": [
        "# 15) Desafio 1 - Faça uma função que receba um número e calcule seu fatorial.\n",
        "\n",
        "# def fatorial(n):\n",
        "#   fat = 1 \n",
        "#   while n > 1:\n",
        "#     fat *= n\n",
        "#     n -= 1 \n",
        "#   return fat\n",
        "\n",
        "def fatorial(n):\n",
        "  fat = 1\n",
        "  for num in range(n):\n",
        "    fat *= (num + 1)\n",
        "  return fat\n",
        "\n",
        "fatorial(4)"
      ],
      "metadata": {
        "id": "zzP-N04sOIZu",
        "colab": {
          "base_uri": "https://localhost:8080/"
        },
        "outputId": "91f051a0-c2f8-466d-93c3-d08fbb63d194"
      },
      "execution_count": 6,
      "outputs": [
        {
          "output_type": "execute_result",
          "data": {
            "text/plain": [
              "24"
            ]
          },
          "metadata": {},
          "execution_count": 6
        }
      ]
    },
    {
      "cell_type": "markdown",
      "source": [
        "16) Desafio 3 - A sequência Fibonacci é a sequência cujos dois primeiros termos são 1 e os demais são obtidos através da soma de seus dois antecessores, isso é:\n",
        "\n",
        "a. Fibonacci(1) = 1 e Fibonacci(2) = 2;\n",
        "\n",
        "b. dado qualquer número n >= 3, Fibonacci(n) = Fibonacci(n-1) + Fibonacci(n-2)\n",
        "\n",
        "Assim, os 10 primeiros termos da sequência Fibonacci são:\n",
        "\n",
        "1, 1, 2, 3, 5, 8, 13, 21, 34, 55…\n",
        "Faça uma função que receba um número n e calcule o termo de número n da sequência Fibonacci."
      ],
      "metadata": {
        "id": "yiNgdL2eSAlF"
      }
    },
    {
      "cell_type": "code",
      "source": [
        "def Fibonacci(n):\n",
        "  termos = 1\n",
        "  if n > 2:\n",
        "    termos = Fibonacci(n-1) + Fibonacci(n-2) \n",
        "  return termos \n",
        "\n",
        "Fibonacci(4)"
      ],
      "metadata": {
        "colab": {
          "base_uri": "https://localhost:8080/"
        },
        "id": "_699r8lhRyTi",
        "outputId": "a0378342-edae-4139-d2fe-9c5418ddd150"
      },
      "execution_count": null,
      "outputs": [
        {
          "output_type": "execute_result",
          "data": {
            "text/plain": [
              "3"
            ]
          },
          "metadata": {},
          "execution_count": 105
        }
      ]
    },
    {
      "cell_type": "code",
      "source": [
        "# 17) Super Desafio! - Repita o exercício anterior usando recursão, ou seja, uma função que chame ela mesma, \n",
        "# lembrando que 3! = 3*2!, que 2! = 2*1!, que 1! = 1*0! e que 0! = 1.\n",
        "\n",
        "def fatorialR(n):\n",
        "  if n == 1:\n",
        "    return 1\n",
        "  else:\n",
        "    return n*fatorialR(n-1)\n",
        "\n",
        "fatorial(4)"
      ],
      "metadata": {
        "id": "laY0CwQRwf8-",
        "colab": {
          "base_uri": "https://localhost:8080/"
        },
        "outputId": "0436e3e2-3a26-4df5-e69c-0ed53e5efc81"
      },
      "execution_count": 7,
      "outputs": [
        {
          "output_type": "execute_result",
          "data": {
            "text/plain": [
              "24"
            ]
          },
          "metadata": {},
          "execution_count": 7
        }
      ]
    },
    {
      "cell_type": "code",
      "source": [
        "# 18) Desafio 2 - Faça uma função que recebe duas entradas: um input dado pelo usuário e um string que informa o tipo de dado (\"idade\", \"salário\" ou \"sexo\"),\n",
        "# e verifica se os dados digitados foram válidos, usando os seguintes critérios:\n",
        "# a. Idade: entre 0 e 150;\n",
        "# b. Salário: maior que 0;\n",
        "# c. Sexo: M, F ou Outro.\n",
        "\n",
        "def verificacao(entrada, tipo):\n",
        "  if tipo == 'idade' and entrada >= 0 and entrada <= 150:\n",
        "    return True\n",
        "  elif tipo == 'salário' and entrada > 0:\n",
        "    return True\n",
        "  elif tipo == 'sexo' and (entrada == 'M' or entrada == 'F' or entrada == 'Outro'):\n",
        "    return True\n",
        "  else:\n",
        "    return False # Para o caso inválido"
      ],
      "metadata": {
        "id": "c06uGZc59JNT"
      },
      "execution_count": 8,
      "outputs": []
    },
    {
      "cell_type": "code",
      "source": [
        "# 19) Super Desafio! - Refaça o desafio 3 usando recursão.\n",
        "\n",
        "def fibonacciR(N):\n",
        "    if N <= 2:\n",
        "        return 1\n",
        "    return fibonacciR(N-1) + fibonacciR(N-2)"
      ],
      "metadata": {
        "id": "xhsfPZhTBb5R"
      },
      "execution_count": null,
      "outputs": []
    },
    {
      "cell_type": "markdown",
      "source": [
        "20) Super Desafio! - Faça um jogo de BlackJack usando funções: o BlackJack, ou Vinte e Um, é um jogo em que os jogadores podem comprar cartas livremente, enquanto tiverem menos de 21 pontos. No nosso jogo, o Ás vale um ponto; as cartas de 2 a 10 valem o número de pontos que elas representam; e Valete, Dama e Rei valem 10 pontos cada. Ganha o jogador que tiver o maior número de pontos, desde que este seja menor ou igual a 21. Nosso jogo deve ter as seguintes funções:\n",
        "\n",
        "a. Função principal: a função que vamos chamar para iniciar o jogo. Essa função não irá receber nem retornar nenhuma variável. Ela deve perguntar o número de jogadores participantes e o nome de cada um. Em seguida ela chama as outras funções do jogo.\n",
        "\n",
        "b. Função para criar o baralho: essa função deve criar um baralho (uma lista) com as cartas do baralho.\n",
        "\n",
        "c. Função para a jogada: essa função deve receber o nome do jogador que irá realizar a jogada e, caso ele ainda esteja ativo (tenha menos de 21 pontos e ainda não tenha desistido de comprar cartas) deve perguntar se ele quer comprar uma carta. Se ele responder que sim, a função deve chamar a próxima função para sortear uma carta e somar o valor retornado na pontuação do jogador; se ele responder que não, a função deve desativar o jogador para que ele não possa mais comprar cartas; Essa função só deve ser chamada enquanto houver jogadores ativos.\n",
        "\n",
        "d. Função para o sorteio: essa função retira uma carta aleatória do baralho e retorna o número de pontos que essa carta vale.\n",
        "\n",
        "e. Função verificação: verifica e indica qual/quais jogador/jogadores tem o maior número de pontos, que seja menor ou igual a 21."
      ],
      "metadata": {
        "id": "tjUDqCbwFZ3g"
      }
    },
    {
      "cell_type": "code",
      "source": [
        "import random\n",
        "def cria_baralho():\n",
        "    baralho = [\"A\", \"2\", \"3\", \"4\", \"5\", \"6\", \"7\", \"8\", \"9\", \"10\", \"Q\", \"J\", \"K\"]*4\n",
        "    print(\"Baralho criado!\")\n",
        "    return baralho\n",
        "\n",
        "def jogo(jogadores, baralho):\n",
        "    existem_ativos = True # Variável que controla o fluxo do jogo. Começa em true para entrar no loop\n",
        "    while existem_ativos:\n",
        "        existem_ativos = False # Em cada iteração do loop, começa como falsa,\n",
        "                               # e se encontrar qualquer jogador ativo, é atualizada\n",
        "        for jogador in jogadores:\n",
        "            jogada(jogador, baralho)\n",
        "            if jogador[2] == True:  # Verifica após a jogada se ele ainda está ativo\n",
        "                existem_ativos = True\n",
        "\n",
        "def jogada(jogador, baralho):\n",
        "    if jogador[2] == True: # Jogador está ativo\n",
        "        print(\"Jogada de\", jogador[0], \"com\", jogador[1], \"pontos.\")\n",
        "        pergunta = input(\"Você que comprar 1 carta? \")\n",
        "        if pergunta == \"sim\":\n",
        "            carta = sorteio(baralho)\n",
        "            jogador[1] += carta\n",
        "            print(\"Você agora tem\", jogador[1], \"pontos.\")\n",
        "            if jogador[1] > 21:\n",
        "                print(\"Que azar!\")\n",
        "                jogador[2] = False # Desativa o jogador\n",
        "        else:\n",
        "            print(\"Ok, você parou de comprar.\")\n",
        "            jogador[2] = False\n",
        "    print()\n",
        "\n",
        "def sorteio(baralho):\n",
        "    carta = random.choice(baralho)\n",
        "    baralho.remove(carta)\n",
        "    if carta == 'A':\n",
        "        pontos = 1\n",
        "    elif carta == 'Q' or carta == 'J' or carta == 'K':\n",
        "        pontos = 10\n",
        "    else:\n",
        "        pontos = int(carta)\n",
        "    print(\"Você comprou um\", carta, \"que vale\", pontos, \"pontos\")\n",
        "    return pontos\n",
        "\n",
        "def verificacao(jogadores):\n",
        "    vencedor = None\n",
        "    empate = False\n",
        "    maximo_pontos = 0\n",
        "    for jogador in jogadores:\n",
        "        pontos = jogador[1]\n",
        "        if pontos <= 21:\n",
        "            if pontos > maximo_pontos:\n",
        "                vencedor = jogador\n",
        "                maximo_pontos = pontos\n",
        "                empate = False\n",
        "            elif pontos == maximo_pontos:\n",
        "                vencedor = None\n",
        "                empate = True\n",
        "\n",
        "    if empate:\n",
        "        print(\"Temos um empate!\")\n",
        "    elif vencedor == None:\n",
        "        print(\"Todos estouraram 21!\")\n",
        "    else:\n",
        "        print(\"O vencedor foi\", jogador[0], \"com\", jogador[1], \"pontos.\")\n",
        "\n",
        "def main():\n",
        "    no_jogadores = int(input(\"Quantos jogadores irão participar? \"))\n",
        "    jogadores = []\n",
        "    for i in range(no_jogadores):\n",
        "        nome = input(\"Qual o nome do jogador? \")\n",
        "        pontos = 0\n",
        "        ativo = True\n",
        "        jogador = [nome, pontos, ativo]\n",
        "        jogadores.append(jogador)\n",
        "\n",
        "    baralho = cria_baralho()\n",
        "    jogo(jogadores, baralho)\n",
        "    verificacao(jogadores)\n",
        "\n",
        "main()"
      ],
      "metadata": {
        "id": "HmT-kTakFUOR"
      },
      "execution_count": null,
      "outputs": []
    },
    {
      "cell_type": "markdown",
      "source": [
        "21) Super desafio! Faça um sistema de cadastro de clientes. Modele cada cliente como uma lista de três elementos: nome, CPF e e-mail.\n",
        "\n",
        "a. Faça uma função que peça o nome, o CPF e o e-mail da pessoa e retorne uma lista contendo esses elementos nessa ordem.\n",
        "\n",
        "b. Os clientes cadastrados devem ser armazenados em uma lista (uma lista de listas, já que cada cliente será uma lista tal como produzido no item a).\n",
        "\n",
        "c. Faça uma função que recebe a lista do item b) e um CPF e, se esse cliente estiver na lista de cadastro, sua função deve devolver a lista de dados desse cliente; caso contrário, sua função deve imprimir “não encontrado”.\n",
        "\n",
        "d. Enquanto não for digitado 0, o seu programa deve continuar rodando. Se digitado 1, seu programa deve cadastrar um novo cliente; se digitado 2, seu programa deve pedir um CPF e procurá-lo na lista de clientes (item c); se digitado 3, seu programa deve imprimir todos os clientes cadastrados."
      ],
      "metadata": {
        "id": "cUMUHdMVEAU5"
      }
    },
    {
      "cell_type": "code",
      "source": [
        "def cadastroCliente():\n",
        "    nome = input(\"Digite o nome: \")\n",
        "    cpf = input(\"Digite o CPF: \")\n",
        "    email = input(\"Digite o email: \")\n",
        "    return [nome, cpf, email]\n",
        "\n",
        "def pedeComando():\n",
        "    print()\n",
        "    print(\"Escolha uma ação\")\n",
        "    print(\"0 - Sair do programa\")\n",
        "    print(\"1 - Cadastrar cliente\")\n",
        "    print(\"2 - Procurar cliente\")\n",
        "    print(\"3 - Mostrar todos clientes\")\n",
        "    comando = int(input())\n",
        "    return comando\n",
        "\n",
        "def procuraCliente(lista, cpf):\n",
        "    for cliente in lista:\n",
        "        if cliente[1] == cpf:\n",
        "            return cliente\n",
        "    print(\"Não encontrado\")\n",
        "\n",
        "def imprimeClientes(lista):\n",
        "    #Função para imprimir todos os clientes cadastrados no sistema\n",
        "    print(\"Lista de clientes\")\n",
        "    for cliente in lista:\n",
        "        print(cliente)\n",
        "\n",
        "listaClientes = [] # Lista com todos os clientes\n",
        "comando = pedeComando()\n",
        "while comando != 0:\n",
        "    if comando == 1:\n",
        "        listaClientes.append(cadastroCliente())\n",
        "        print(\"Cliente cadastrado!\")\n",
        "    elif comando == 2:\n",
        "        cpf = input(\"Qual o CPF do cliente? \")\n",
        "        cliente = procuraCliente(listaClientes, cpf)\n",
        "        if cliente != None: # Verifica se a função retornou algo\n",
        "            print(\"As informações do cliente são: \")\n",
        "            print(cliente)\n",
        "    elif comando == 3:\n",
        "        imprimeClientes(listaClientes)\n",
        "    else:\n",
        "        print(\"Comando inválido.\")\n",
        "\n",
        "    comando = pedeComando() # Pede uma nova entrada"
      ],
      "metadata": {
        "id": "9LxY4FfHDL5l"
      },
      "execution_count": null,
      "outputs": []
    }
  ]
}