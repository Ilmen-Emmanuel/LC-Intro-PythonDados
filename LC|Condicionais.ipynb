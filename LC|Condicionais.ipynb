{
  "nbformat": 4,
  "nbformat_minor": 0,
  "metadata": {
    "colab": {
      "name": "LC|Condicionais.ipynb",
      "provenance": [],
      "collapsed_sections": [],
      "authorship_tag": "ABX9TyO3TRfqZUtQxKltpR9Luc9a",
      "include_colab_link": true
    },
    "kernelspec": {
      "name": "python3",
      "display_name": "Python 3"
    },
    "language_info": {
      "name": "python"
    }
  },
  "cells": [
    {
      "cell_type": "markdown",
      "metadata": {
        "id": "view-in-github",
        "colab_type": "text"
      },
      "source": [
        "<a href=\"https://colab.research.google.com/github/Ilmen-Emmanuel/LC-Intro-PythonDados/blob/main/LC%7CCondicionais.ipynb\" target=\"_parent\"><img src=\"https://colab.research.google.com/assets/colab-badge.svg\" alt=\"Open In Colab\"/></a>"
      ]
    },
    {
      "cell_type": "markdown",
      "source": [
        "## Exercícios 2 \n"
      ],
      "metadata": {
        "id": "MR0kLwZGstVS"
      }
    },
    {
      "cell_type": "markdown",
      "source": [
        "### LC | Condicionais\n"
      ],
      "metadata": {
        "id": "saB7yoYSszgY"
      }
    },
    {
      "cell_type": "code",
      "execution_count": null,
      "metadata": {
        "colab": {
          "base_uri": "https://localhost:8080/"
        },
        "id": "cab3_-2asX5O",
        "outputId": "7598cf60-21bd-415d-baf4-b150f6258a75"
      },
      "outputs": [
        {
          "output_type": "stream",
          "name": "stdout",
          "text": [
            "Informe sua idade: 18\n",
            "Você é maior de idade(18 anos ou mais). \n"
          ]
        }
      ],
      "source": [
        "# 1) Faça um programa que peça a idade da pessoa e imprima se ela é maior ou menor de 18 anos.\n",
        "\n",
        "idade = int(input('Informe sua idade: '))\n",
        "if idade >= 18: # Considerando valores para maior ou igual de 18 anos a maioridade\n",
        "  print('Você é maior de idade(18 anos ou mais). ')\n",
        "else:\n",
        "  print('Você é menor de idade(menor que 18 anos. ')"
      ]
    },
    {
      "cell_type": "code",
      "source": [
        "# 2) Faça um programa que peça um número e mostre se ele é positivo ou negativo.\n",
        "\n",
        "numero = float(input('Digite um número: '))\n",
        "if numero > 0:\n",
        "  print('O número é positivo. ')\n",
        "elif numero < 0:\n",
        "  print('O número é negativo. ')\n",
        "else: \n",
        "  print('Digite uma entrada positiva ou negativa.')"
      ],
      "metadata": {
        "colab": {
          "base_uri": "https://localhost:8080/"
        },
        "id": "aBtRKN5cxZtk",
        "outputId": "58ca1495-95de-488f-ca3f-327a2c11628e"
      },
      "execution_count": null,
      "outputs": [
        {
          "output_type": "stream",
          "name": "stdout",
          "text": [
            "Digite um número: 2\n",
            "O número é positivo. \n"
          ]
        }
      ]
    },
    {
      "cell_type": "code",
      "source": [
        "# 3) Faça um programa que peça dois números e mostre o maior deles.\n",
        "\n",
        "number1 = float(input('Digite um número: '))\n",
        "number2 = float(input('Digite um número: '))\n",
        "\n",
        "if number1 > number2:\n",
        "  print(f'o maior número é: {number1}')\n",
        "elif number2 > number1:\n",
        "  print(f'o maior número é: {number2}')\n",
        "else:\n",
        "  print('Os números são iguais.')"
      ],
      "metadata": {
        "colab": {
          "base_uri": "https://localhost:8080/"
        },
        "id": "O-M3H-o20LjD",
        "outputId": "44c8dd96-c75d-469e-8bcf-45c4f872c1e0"
      },
      "execution_count": null,
      "outputs": [
        {
          "output_type": "stream",
          "name": "stdout",
          "text": [
            "Digite um número: 10\n",
            "Digite um número: 10\n",
            "Os números são iguais.\n"
          ]
        }
      ]
    },
    {
      "cell_type": "code",
      "source": [
        "# 4) Escreva um programa que peça a nota de 3 provas de um aluno e mostre se ele passou ou não de ano.\n",
        "# Obs.: O aluno irá passar de ano se a média das suas notas for maior ou igual a 6 (média é a soma das notas dividido pelo número de provas).\n",
        "\n",
        "nota1 = float(input('Digite a primeira nota da prova: '))\n",
        "nota2 = float(input('Digite a segunda nota da prova: '))\n",
        "nota3 = float(input('Digite a terceira nota da prova: '))\n",
        "\n",
        "\n"
      ],
      "metadata": {
        "id": "YQLkK4982voc"
      },
      "execution_count": null,
      "outputs": []
    },
    {
      "cell_type": "code",
      "source": [
        "# 4) Escreva um programa que peça a nota de 3 provas de um aluno e mostre se ele passou ou não de ano.\n",
        "# Obs.: O aluno irá passar de ano se a média das suas notas for maior ou igual a 6 (média é a soma das notas dividido pelo número de provas).\n",
        "\n",
        "lista = []\n",
        "for a in range (3):\n",
        "  n = float(input('Informe a nota do aluno: '))\n",
        "  lista.append((n))\n",
        "notas = lista\n",
        "media = float( notas[0] + notas[1] + notas[2] )/float(len(notas))\n",
        "if media >= 6:\n",
        "  print('O aluno passou de ano.')\n",
        "else:\n",
        "  print('O aluno não passou de ano.')\n"
      ],
      "metadata": {
        "colab": {
          "base_uri": "https://localhost:8080/"
        },
        "id": "hhbmit__4--v",
        "outputId": "e990240d-9159-4ed9-c5ea-391fc464eab6"
      },
      "execution_count": null,
      "outputs": [
        {
          "output_type": "stream",
          "name": "stdout",
          "text": [
            "Informe a nota do aluno: 6\n",
            "Informe a nota do aluno: 6\n",
            "Informe a nota do aluno: 6\n",
            "O aluno passou de ano.\n"
          ]
        }
      ]
    },
    {
      "cell_type": "code",
      "source": [
        "# 5) Faça um programa que mostre uma questão de múltipla escolha com 5 opções (letras a, b, c, d, e).\n",
        "# Sabendo a resposta certa, o programa deve receber a opção do usuário e informar a letra que o usuário\n",
        "# marcou e se a resposta está certa ou errada.\n",
        "\n",
        "questao = input('Quanto é 2+2? \\n\\n a)0 \\n b)1 \\n c)2 \\n d)3 \\n e)4 \\n\\n')\n",
        "print('\\n')\n",
        "if questao == 'a' or questao == 'b' or questao == 'c' or questao == 'd' or questao == 'e':\n",
        "  if questao == 'e':\n",
        "    print('Você selecionou a alternativa: e)0 \\n A alternativa selecionada está correta, parabéns!')\n",
        "  else:\n",
        "    print(f'Você selecinou a alternativa: {questao}) \\n A alternativa selecionada está incorreta. ')\n",
        "else:\n",
        "  print('Você digitou uma alternativa inválida.')"
      ],
      "metadata": {
        "id": "QIvHQGAA6iie",
        "colab": {
          "base_uri": "https://localhost:8080/"
        },
        "outputId": "968221a6-3c83-4d10-96f5-790ead0dd28e"
      },
      "execution_count": null,
      "outputs": [
        {
          "output_type": "stream",
          "name": "stdout",
          "text": [
            "Quanto é 2+2? \n",
            "\n",
            " a)0 \n",
            " b)1 \n",
            " c)2 \n",
            " d)3 \n",
            " e)4 \n",
            "\n",
            "z\n",
            "\n",
            "\n",
            "Você digitou uma alternativa inválida.\n"
          ]
        }
      ]
    },
    {
      "cell_type": "code",
      "source": [
        "# 6) Vamos fazer um programa para verificar quem é o assassino de um crime. Para descobrir o assassino, \n",
        "# a polícia faz um pequeno questionário com 5 perguntas onde a resposta só pode ser sim ou não:\n",
        "# a. Mora perto da vítima?\n",
        "# b. Já trabalhou com a vítima?\n",
        "# c. Telefonou para a vítima?\n",
        "# d. Esteve no local do crime?\n",
        "# e. Devia para a vítima?\n",
        "# Cada resposta sim dá um ponto para o suspeito. A polícia considera que os suspeitos com 5 pontos são\n",
        "# os assassinos, com 4 a 3 pontos são cúmplices e 2 pontos são apenas suspeitos, necessitando outras\n",
        "# investigações. Valores abaixo de 1 são liberados.\n",
        "soma = 0\n",
        "\n",
        "resposta = input('Mora perto da vítima? (sim/não): ')\n",
        "\n",
        "if resposta == 'sim':\n",
        "  soma += 1\n",
        "\n",
        "resposta = input('Já trabalhou com a vítima? (sim/não): ')\n",
        "\n",
        "if resposta == 'sim':\n",
        "  soma += 1 \n",
        "\n",
        "resposta = input('Telefonou para a vítima? (sim/não): ')\n",
        "\n",
        "if resposta == 'sim':\n",
        "  soma += 1 \n",
        "\n",
        "resposta = input('Esteve no local do crime? (sim/não): ')\n",
        "\n",
        "if resposta == 'sim':\n",
        "  soma += 1 \n",
        "\n",
        "resposta = input('Devia para a vítima? (sim/não): ')\n",
        "\n",
        "if resposta == 'sim':\n",
        "  soma += 1 \n",
        "\n",
        "elif soma == 5:\n",
        "  print('Assassino')\n",
        "elif soma >= 4:\n",
        "  print('Cúmplice')\n",
        "elif soma == 2:\n",
        "  print('Suspeito')\n",
        "else:\n",
        "  print('Liberado')"
      ],
      "metadata": {
        "id": "z6FKpSjwDD9n"
      },
      "execution_count": null,
      "outputs": []
    },
    {
      "cell_type": "code",
      "source": [
        "# 7) Faça um programa em que o usuário tem que adivinhar o número escolhido pelo computador. \n",
        "# O computador deve sortear um número inteiro de 1 a 5 e pedir para o usuário tentar descobrir qual o número sorteado. \n",
        "# Após o usuário digitar sua resposta, o programa deve dizer se ele acertou ou não. Dica: para sortear um número, \n",
        "# você precisará utilizar a biblioteca random.\n",
        "\n",
        "#Importando o random \n",
        "\n",
        "from random import randint\n",
        "\n",
        "sorteador = randint(1,5)\n",
        "print('O computador vai sortear um número entre 0 e 5.')\n",
        "resp_usuario = int(input('Digite um número entre 0 e 5 para adivinhar: '))\n",
        "print(f'O número sorteado foi: {sorteador}')\n",
        "print('\\n')\n",
        "if sorteador == resp_usuario:\n",
        "  print('Parabéns, você acertou o número adivinhado!')\n",
        "else:\n",
        "  print(f'Incorreto, você errou o número adivinhado.\\nO computador sorteou o número {sorteador} e não {resp_usuario}.')"
      ],
      "metadata": {
        "colab": {
          "base_uri": "https://localhost:8080/"
        },
        "id": "zbAvZ0nQDxuO",
        "outputId": "97021f62-150e-4c59-de6b-572520fa4e69"
      },
      "execution_count": null,
      "outputs": [
        {
          "output_type": "stream",
          "name": "stdout",
          "text": [
            "O computador vai sortear um número entre 0 e 5.\n",
            "Digite um número entre 0 e 5 para adivinhar: 5\n",
            "O número sorteado foi: 4\n",
            "\n",
            "\n",
            "Incorreto, você errou o número adivinhado.\n",
            "O computador sorteou o número 4 e não 5.\n"
          ]
        }
      ]
    },
    {
      "cell_type": "code",
      "source": [
        "# 8) Vamos fazer um radar eletrônico de velocidade. Faça um programa que leia a velocidade de um carro, \n",
        "# e diga se ele está acima ou não da velocidade permitida de 50 km/h. Se o carro estiver acima da velocidade, \n",
        "# o programa deve imprimir que o motorista ultrapassou a velocidade permitida e recebeu uma multa num determinado valor. \n",
        "# Para calcular o valor da multa, considere que para cada quilômetro acima da velocidade permitida, o motorista deve pagar 10 reais.\n",
        "\n",
        "#Criando uma variável para armazenar a velocidade do carro:\n",
        "vel = float(input('Informe a velocidade atual do veículo: '))\n",
        "vel_permitida = 50\n",
        "if vel > vel_permitida:\n",
        "  print(f'Multado. Você ultrapassou a velocidade permitida de {vel_permitida}km/h.')\n",
        "  multa = (vel - vel_permitida)*10\n",
        "  print(f'A multado foi no valor de {multa:.2f}R$.')\n",
        "else:\n",
        "  print(f'Velocidade de {vel}km/h, não está acima da velocidade permitida.')"
      ],
      "metadata": {
        "colab": {
          "base_uri": "https://localhost:8080/"
        },
        "id": "gBz1U8r2LhUt",
        "outputId": "94e46ec3-93fa-4db0-91a1-d75dec03d0b0"
      },
      "execution_count": null,
      "outputs": [
        {
          "output_type": "stream",
          "name": "stdout",
          "text": [
            "Informe a velocidade atual do veículo: 80\n",
            "Multado. Você ultrapassou a velocidade permitida de 50km/h.\n",
            "A multado foi no valor de 300.00R$.\n"
          ]
        }
      ]
    },
    {
      "cell_type": "markdown",
      "source": [
        "9)Com a recomendação que as pessoas fiquem em casa e evitem aglomerações como medida pra frear a contaminação pelo coronavírus, como saber quando devemos procurar um hospital? Faça um programa que pergunte os sintomas que a pessoa apresenta e responda se ela deve ou não procurar um hospital.\n",
        "\n",
        "Sintomas: a. Você tem febre persistente? b. Você tem dificuldade para respirar?\n",
        "\n",
        "A resposta do programa deve seguir a seguinte tabela:\n",
        "\n",
        "A\tB\tResultado\n",
        "\n",
        "Sim\tNão\tFique em casa\n",
        "\n",
        "Não\tSim\tFique em casa\n",
        "\n",
        "Não\tNão\tFique em casa\n",
        "\n",
        "Sim\tSim\tProcure um hospital\n"
      ],
      "metadata": {
        "id": "S1T5fXv_VWrB"
      }
    },
    {
      "cell_type": "code",
      "source": [
        "# Observa-se proposições compostas que tem o conectivo de conjunção\n",
        "print('Informe os seguintes sintomas apresentados: ')\n",
        "# Proposição A\n",
        "A = input('Você tem febre persistente ? (sim/não)')\n",
        "if A == 'sim':\n",
        "  propA = True\n",
        "elif A == 'não':\n",
        "  propA = False\n",
        "else:\n",
        "  print('Responda com sim ou não.')     \n",
        "# Proposição B\n",
        "B = input('Você tem difuculdade de respirar? (sim/não)')\n",
        "if B == 'sim':\n",
        "  propB = True\n",
        "elif B == 'não':\n",
        "  propB = False\n",
        "else:\n",
        "  print('Responda com sim ou não.') \n",
        "if (propA and propB) == True: \n",
        "  print('Procure um hospital.')\n",
        "else:\n",
        "  print('Fique em casa.') "
      ],
      "metadata": {
        "colab": {
          "base_uri": "https://localhost:8080/"
        },
        "id": "WFN7805OVJu0",
        "outputId": "142d42c6-11ac-46cb-9ad3-a169c8758546"
      },
      "execution_count": null,
      "outputs": [
        {
          "output_type": "stream",
          "name": "stdout",
          "text": [
            "Informe os seguintes sintomas apresentados: \n",
            "Você tem febre persistente ? (sim/não)não\n",
            "Você tem difuculdade de respirar? (sim/não)não\n",
            "Fique em casa.\n"
          ]
        }
      ]
    },
    {
      "cell_type": "code",
      "source": [],
      "metadata": {
        "id": "5ur1ki4YrkKW"
      },
      "execution_count": null,
      "outputs": []
    }
  ]
}